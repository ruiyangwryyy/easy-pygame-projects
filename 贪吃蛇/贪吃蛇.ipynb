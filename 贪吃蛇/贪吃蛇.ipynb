{
 "cells": [
  {
   "cell_type": "markdown",
   "id": "41448f49-982a-4f98-865a-47e5606b5b37",
   "metadata": {},
   "source": [
    "贪吃蛇"
   ]
  },
  {
   "cell_type": "code",
   "execution_count": null,
   "id": "4fa1970b-7f0d-4bc4-8be0-e5eedcf9c852",
   "metadata": {},
   "outputs": [],
   "source": []
  }
 ],
 "metadata": {
  "kernelspec": {
   "display_name": "Python 3 (ipykernel)",
   "language": "python",
   "name": "python3"
  },
  "language_info": {
   "codemirror_mode": {
    "name": "ipython",
    "version": 3
   },
   "file_extension": ".py",
   "mimetype": "text/x-python",
   "name": "python",
   "nbconvert_exporter": "python",
   "pygments_lexer": "ipython3",
   "version": "3.9.1"
  }
 },
 "nbformat": 4,
 "nbformat_minor": 5
}
