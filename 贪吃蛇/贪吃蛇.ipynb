{
 "cells": [
  {
   "cell_type": "markdown",
   "id": "41448f49-982a-4f98-865a-47e5606b5b37",
   "metadata": {},
   "source": [
    "贪吃蛇"
   ]
  },
  {
   "cell_type": "code",
   "execution_count": 1,
   "id": "4fa1970b-7f0d-4bc4-8be0-e5eedcf9c852",
   "metadata": {},
   "outputs": [
    {
     "name": "stdout",
     "output_type": "stream",
     "text": [
      "pygame 2.6.1 (SDL 2.28.4, Python 3.9.1)\n",
      "Hello from the pygame community. https://www.pygame.org/contribute.html\n"
     ]
    }
   ],
   "source": [
    "import pygame\n",
    "import sys\n",
    "pygame.init()"
   ]
  },
  {
   "cell_type": "code",
   "execution_count": null,
   "id": "8a068ccb-24e3-4c72-842e-eecf996705f0",
   "metadata": {},
   "outputs": [],
   "source": [
    "import pygame\n",
    "import sys\n",
    "pygame.init()\n",
    "size = width, height = 320, 240\n",
    "screen = pygame.display.set_mode(size)\n",
    "speed = [2, 2]\n",
    "black = 0, 0, 0\n",
    "while True:\n",
    "    for event in pygame.event.get():\n",
    "        if event.type == pygame.QUIT: sys.exit()\n",
    "    screen.fill(black)\n",
    "    pygame.display.flip()"
   ]
  },
  {
   "cell_type": "code",
   "execution_count": null,
   "id": "d3cc2f54-8003-458e-aa80-3a312013fa80",
   "metadata": {
    "scrolled": true
   },
   "outputs": [],
   "source": []
  },
  {
   "cell_type": "code",
   "execution_count": null,
   "id": "8791aba4-330a-4891-8bd6-aac712abceeb",
   "metadata": {},
   "outputs": [],
   "source": []
  }
 ],
 "metadata": {
  "kernelspec": {
   "display_name": "Python 3 (ipykernel)",
   "language": "python",
   "name": "python3"
  },
  "language_info": {
   "codemirror_mode": {
    "name": "ipython",
    "version": 3
   },
   "file_extension": ".py",
   "mimetype": "text/x-python",
   "name": "python",
   "nbconvert_exporter": "python",
   "pygments_lexer": "ipython3",
   "version": "3.9.1"
  }
 },
 "nbformat": 4,
 "nbformat_minor": 5
}
